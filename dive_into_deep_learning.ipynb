{
  "cells": [
    {
      "cell_type": "markdown",
      "metadata": {
        "id": "view-in-github",
        "colab_type": "text"
      },
      "source": [
        "<a href=\"https://colab.research.google.com/github/aaronyu57/deeplearning/blob/main/dive_into_deep_learning.ipynb\" target=\"_parent\"><img src=\"https://colab.research.google.com/assets/colab-badge.svg\" alt=\"Open In Colab\"/></a>"
      ]
    },
    {
      "cell_type": "markdown",
      "id": "71d3d281-75a3-4f14-b1a9-a800d3e2efcd",
      "metadata": {
        "id": "71d3d281-75a3-4f14-b1a9-a800d3e2efcd"
      },
      "source": [
        "## 1. Get the gradients of $f(x_1,x_2)=ln(x_1)+x_{1}x_{2}-sin(x_2)$ by torch.autograd"
      ]
    },
    {
      "cell_type": "code",
      "execution_count": null,
      "id": "3e60643b-b9fe-4039-b9a8-d526270822f8",
      "metadata": {
        "colab": {
          "base_uri": "https://localhost:8080/"
        },
        "id": "3e60643b-b9fe-4039-b9a8-d526270822f8",
        "outputId": "7abc38f7-97e1-4a72-96b0-c34449889043"
      },
      "outputs": [
        {
          "output_type": "stream",
          "name": "stdout",
          "text": [
            "pytorch autograd: tensor([5.5000, 1.7163])\n"
          ]
        }
      ],
      "source": [
        "import torch\n",
        "\n",
        "def f(x):\n",
        "  return torch.log(x[0]) + x[0]*x[1] - torch.sin(x[1])\n",
        "\n",
        "x = torch.tensor([2.0, 5.0], requires_grad=True)\n",
        "\n",
        "y = f(x)\n",
        "y.backward()\n",
        "\n",
        "print(f\"pytorch autograd: {x.grad}\")"
      ]
    },
    {
      "cell_type": "markdown",
      "id": "1076fdd7-2003-4483-bc49-cb5be2f9885a",
      "metadata": {
        "id": "1076fdd7-2003-4483-bc49-cb5be2f9885a"
      },
      "source": [
        "## 2. Implement a classification model to classify if an integer is even or odd number"
      ]
    },
    {
      "cell_type": "code",
      "execution_count": 12,
      "metadata": {
        "colab": {
          "base_uri": "https://localhost:8080/",
          "height": 1000
        },
        "outputId": "3d122cd6-73f5-4b21-db4e-b2e56757ad27",
        "id": "t5IqcGX8UeNc"
      },
      "outputs": [
        {
          "output_type": "stream",
          "name": "stdout",
          "text": [
            "Using cpu device\n",
            "Sequential(\n",
            "  (0): Linear(in_features=16, out_features=32, bias=True)\n",
            "  (1): ReLU()\n",
            "  (2): Linear(in_features=32, out_features=16, bias=True)\n",
            "  (3): ReLU()\n",
            "  (4): Linear(in_features=16, out_features=1, bias=True)\n",
            "  (5): Sigmoid()\n",
            ")\n",
            "Train 3 Epochs:\n",
            "Epoch 1\n",
            "-------------------------------\n",
            "loss: 0.692827 [  100/ 1800]\n",
            "loss: 0.688679 [  200/ 1800]\n",
            "loss: 0.679463 [  300/ 1800]\n",
            "loss: 0.678287 [  400/ 1800]\n",
            "loss: 0.689456 [  500/ 1800]\n",
            "loss: 0.654887 [  600/ 1800]\n",
            "loss: 0.650308 [  700/ 1800]\n",
            "loss: 0.616525 [  800/ 1800]\n",
            "loss: 0.580994 [  900/ 1800]\n",
            "loss: 0.485489 [ 1000/ 1800]\n",
            "loss: 0.426214 [ 1100/ 1800]\n",
            "loss: 0.284117 [ 1200/ 1800]\n",
            "loss: 0.227397 [ 1300/ 1800]\n",
            "loss: 0.218145 [ 1400/ 1800]\n",
            "loss: 0.149310 [ 1500/ 1800]\n",
            "loss: 0.102260 [ 1600/ 1800]\n",
            "loss: 0.052394 [ 1700/ 1800]\n",
            "loss: 0.062351 [ 1800/ 1800]\n",
            "Test Error: \n",
            " Accuracy: 95.5%, Avg loss: 0.047760 \n",
            "\n",
            "Epoch 2\n",
            "-------------------------------\n",
            "loss: 0.045134 [  100/ 1800]\n",
            "loss: 0.027764 [  200/ 1800]\n",
            "loss: 0.028470 [  300/ 1800]\n",
            "loss: 0.025610 [  400/ 1800]\n",
            "loss: 0.014353 [  500/ 1800]\n",
            "loss: 0.019831 [  600/ 1800]\n",
            "loss: 0.011497 [  700/ 1800]\n",
            "loss: 0.015035 [  800/ 1800]\n",
            "loss: 0.010693 [  900/ 1800]\n",
            "loss: 0.007417 [ 1000/ 1800]\n",
            "loss: 0.009397 [ 1100/ 1800]\n",
            "loss: 0.009826 [ 1200/ 1800]\n",
            "loss: 0.007965 [ 1300/ 1800]\n",
            "loss: 0.011678 [ 1400/ 1800]\n",
            "loss: 0.004204 [ 1500/ 1800]\n",
            "loss: 0.003951 [ 1600/ 1800]\n",
            "loss: 0.008510 [ 1700/ 1800]\n",
            "loss: 0.005692 [ 1800/ 1800]\n",
            "Test Error: \n",
            " Accuracy: 100.0%, Avg loss: 0.005179 \n",
            "\n",
            "Epoch 3\n",
            "-------------------------------\n",
            "loss: 0.003616 [  100/ 1800]\n",
            "loss: 0.004046 [  200/ 1800]\n",
            "loss: 0.004657 [  300/ 1800]\n",
            "loss: 0.004425 [  400/ 1800]\n",
            "loss: 0.002175 [  500/ 1800]\n",
            "loss: 0.002762 [  600/ 1800]\n",
            "loss: 0.003951 [  700/ 1800]\n",
            "loss: 0.003498 [  800/ 1800]\n",
            "loss: 0.003812 [  900/ 1800]\n",
            "loss: 0.003058 [ 1000/ 1800]\n",
            "loss: 0.003161 [ 1100/ 1800]\n",
            "loss: 0.004130 [ 1200/ 1800]\n",
            "loss: 0.003530 [ 1300/ 1800]\n",
            "loss: 0.003120 [ 1400/ 1800]\n",
            "loss: 0.001937 [ 1500/ 1800]\n",
            "loss: 0.001588 [ 1600/ 1800]\n",
            "loss: 0.001835 [ 1700/ 1800]\n",
            "loss: 0.002807 [ 1800/ 1800]\n",
            "Test Error: \n",
            " Accuracy: 100.0%, Avg loss: 0.002326 \n",
            "\n",
            "Done!\n"
          ]
        },
        {
          "output_type": "display_data",
          "data": {
            "text/plain": [
              "<Figure size 432x288 with 1 Axes>"
            ],
            "image/png": "[encoded data removed]"
          },
          "metadata": {
            "needs_background": "light"
          }
        }
      ],
      "source": [
        "\"\"\"\n",
        "https://www.zhihu.com/question/364113452\n",
        "1. 直接将原始数据送入网络, 即输入层维度等于1.\n",
        "2. 将输入转换成64位的binary code, 即输入层的维度等于64. 比如16就转换为0000000000000000000000000000000000000000000000000000000000010000这样一个向量.\n",
        "\n",
        "方案一: 实测无效. 由于输入数据的范围过大, loss很快就到了nan, 这也就导致网络学不到任何东西, accuracy在50%左右.\n",
        "方案二: 成功. accuracy达到了99%以上. \n",
        "\n",
        "\"\"\"\n",
        "\n",
        "import torch\n",
        "from torch import nn\n",
        "from torch.utils.data import Dataset, DataLoader\n",
        "from torchvision import datasets\n",
        "import matplotlib.pyplot as plt\n",
        "import random\n",
        "\n",
        "class IntDataset(Dataset):\n",
        "  def __init__(self, int_len):\n",
        "    self.int_len = int_len\n",
        "    self._dataset_gen()\n",
        "\n",
        "  def __len__(self):\n",
        "    return self.int_len\n",
        "\n",
        "  def __getitem__(self, idx):\n",
        "    return self.dataset[idx]\n",
        "\n",
        "  def _dataset_gen(self):\n",
        "    integers = range(self.int_len)\n",
        "    evens = list(integers[::2])\n",
        "    odds = list(integers[1::2])\n",
        "\n",
        "    self.dataset = list(map(lambda x: (x, 0), evens)) + list(map(lambda x: (x, 1), odds))\n",
        "    random.shuffle(self.dataset)\n",
        "\n",
        "# int to binary code\n",
        "# 1-dimension to multi-dimensions\n",
        "def binary(x, bits):\n",
        "    mask = 2**torch.arange(bits-1,-1,-1).to(x.device, x.dtype)\n",
        "    return x.unsqueeze(-1).bitwise_and(mask).ne(0).byte()\n",
        "\n",
        "# Get cpu or gpu device for training.\n",
        "device = \"cuda\" if torch.cuda.is_available() else \"cpu\"\n",
        "print(f\"Using {device} device\")\n",
        "\n",
        "# parameters\n",
        "learning_rate = 0.1\n",
        "batch_size = 10\n",
        "\n",
        "d_in = 16\n",
        "d_hidden1 = 32\n",
        "d_hidden2 = 16\n",
        "d_out = 1\n",
        "\n",
        "# model\n",
        "model = torch.nn.Sequential(\n",
        "    nn.Linear(d_in, d_hidden1),\n",
        "    nn.ReLU(),\n",
        "    nn.Linear(d_hidden1, d_hidden2),\n",
        "    nn.ReLU(),\n",
        "    nn.Linear(d_hidden2, d_out),\n",
        "    nn.Sigmoid()\n",
        ")\n",
        "print(model)\n",
        "\n",
        "loss_fn = nn.BCELoss()\n",
        "optimizer = torch.optim.SGD(model.parameters(), lr=learning_rate)\n",
        "\n",
        "# prepare dataset\n",
        "n = 2000\n",
        "int_dataset = IntDataset(n)\n",
        "n_test = int(0.1 * n) \n",
        "test_set = torch.utils.data.Subset(int_dataset, range(n_test))  # take first 10%\n",
        "train_set = torch.utils.data.Subset(int_dataset, range(n_test, n))\n",
        "train_dataloader = DataLoader(train_set, batch_size=batch_size, shuffle=True)\n",
        "test_dataloader = DataLoader(test_set, batch_size=batch_size, shuffle=True)\n",
        "\n",
        "train_loss_list = []\n",
        "step_list = []\n",
        "def train(dataloader, model, loss_fn, optimizer, epoch_idx):\n",
        "    size = len(dataloader.dataset)\n",
        "    model.train()\n",
        "    for batch, (x, y) in enumerate(dataloader):\n",
        "        batch = batch + 1\n",
        "        x, y = x.to(device), y.to(device)\n",
        "        X = binary(x, d_in).float()\n",
        "        y = torch.reshape(y.float(), (batch_size, 1))\n",
        "        pred = model(X)\n",
        "        loss = loss_fn(pred, y)\n",
        "\n",
        "        # Backpropagation\n",
        "        optimizer.zero_grad()\n",
        "        loss.backward()\n",
        "        optimizer.step()\n",
        "        \n",
        "        if batch % 10 == 0:\n",
        "            loss, current = loss.item(), batch*batch_size\n",
        "            train_loss_list.append(loss)\n",
        "            step_list.append(current + (epoch_idx* size))\n",
        "            print(f\"loss: {loss:>7f} [{current:>5d}/{size:>5d}]\")\n",
        "\n",
        "\n",
        "def test(dataloader, model, loss_fn):\n",
        "    size = len(dataloader.dataset)\n",
        "    num_batches = len(dataloader)\n",
        "    model.eval()\n",
        "    test_loss, correct = 0, 0\n",
        "    with torch.no_grad():\n",
        "        for x, y in dataloader:\n",
        "            x, y = x.to(device), y.to(device)\n",
        "            X = binary(x, d_in).float()\n",
        "            y = torch.reshape(y.float(), (batch_size, 1))\n",
        "            pred = model(X)\n",
        "            test_loss += loss_fn(pred, y).item()\n",
        "            correct += ((torch.abs(y-pred)<0.1)==True).sum().item()\n",
        "    test_loss /= num_batches\n",
        "    correct /= size\n",
        "    print(f\"Test Error: \\n Accuracy: {(100*correct):>0.1f}%, Avg loss: {test_loss:>8f} \\n\")\n",
        "\n",
        "# train\n",
        "epochs = 3\n",
        "print(f\"Train {epochs} Epochs:\")\n",
        "for t in range(epochs):\n",
        "    print(f\"Epoch {t+1}\\n-------------------------------\")\n",
        "    train(train_dataloader, model, loss_fn, optimizer, t)\n",
        "    test(test_dataloader, model, loss_fn)\n",
        "print(\"Done!\")\n",
        "\n",
        "# pic\n",
        "plt.title(\"Loss\")\n",
        "plt.xlabel('Steps')\n",
        "plt.ylabel('Loss')\n",
        "plt.plot(step_list, train_loss_list, 'b', label=\"BCE\")\n",
        "plt.legend()\n",
        "plt.show()"
      ],
      "id": "t5IqcGX8UeNc"
    },
    {
      "cell_type": "code",
      "source": [
        "import numpy as np\n",
        "import time\n",
        "n =1000000\n",
        "a = np.random.rand(n)\n",
        "b = np.random.rand(n)\n",
        "\n",
        "tic = time.time()\n",
        "c = np.dot(a, b)\n",
        "toc = time.time()\n",
        "\n",
        "print(c)\n",
        "print(f\"Vectorized version: {str(1000*(toc-tic))}ms\")\n",
        "\n",
        "c= 0\n",
        "tic = time.time()\n",
        "for i in range(n):\n",
        "  c += a[i]*b[i]\n",
        "toc = time.time()\n",
        "\n",
        "print(c)\n",
        "print(f\"For Loop: {str(1000*(toc-tic))}ms\")"
      ],
      "metadata": {
        "colab": {
          "base_uri": "https://localhost:8080/"
        },
        "id": "o8wE71XUh-eE",
        "outputId": "01265cc0-edfd-4843-891f-2740a094deb8"
      },
      "id": "o8wE71XUh-eE",
      "execution_count": null,
      "outputs": [
        {
          "output_type": "stream",
          "name": "stdout",
          "text": [
            "249844.86866365693\n",
            "Vectorized version: 5.3501129150390625ms\n",
            "249844.86866366048\n",
            "For Loop: 523.2751369476318ms\n"
          ]
        }
      ]
    }
  ],
  "metadata": {
    "kernelspec": {
      "display_name": "Python 3",
      "language": "python",
      "name": "python3"
    },
    "language_info": {
      "codemirror_mode": {
        "name": "ipython",
        "version": 3
      },
      "file_extension": ".py",
      "mimetype": "text/x-python",
      "name": "python",
      "nbconvert_exporter": "python",
      "pygments_lexer": "ipython3",
      "version": "3.6.9"
    },
    "colab": {
      "provenance": [],
      "collapsed_sections": [],
      "include_colab_link": true
    }
  },
  "nbformat": 4,
  "nbformat_minor": 5
}